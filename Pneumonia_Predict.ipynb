{
  "nbformat": 4,
  "nbformat_minor": 0,
  "metadata": {
    "colab": {
      "provenance": []
    },
    "kernelspec": {
      "name": "python3",
      "display_name": "Python 3"
    },
    "language_info": {
      "name": "python"
    }
  },
  "cells": [
    {
      "cell_type": "code",
      "execution_count": 1,
      "metadata": {
        "id": "N7AXNwWB4cn5"
      },
      "outputs": [],
      "source": [
        "import os\n",
        "import numpy as np\n",
        "import tensorflow as tf\n",
        "from tensorflow.keras.preprocessing import image\n",
        "from tensorflow.keras.applications.mobilenet_v2 import preprocess_input\n",
        "from tensorflow.keras.models import load_model\n",
        "import matplotlib.pyplot as plt\n",
        "from sklearn.metrics import accuracy_score, precision_score, recall_score, f1_score"
      ]
    },
    {
      "cell_type": "code",
      "source": [
        "# Load the pre-trained model\n",
        "model = load_model('/content/keras_model.h5')"
      ],
      "metadata": {
        "id": "qyuT1XJa9GW7"
      },
      "execution_count": null,
      "outputs": []
    },
    {
      "cell_type": "code",
      "source": [
        "# Define labels\n",
        "class_names = ['normal', 'pneumonia']"
      ],
      "metadata": {
        "id": "6HnhkvLA9ZI2"
      },
      "execution_count": 4,
      "outputs": []
    },
    {
      "cell_type": "code",
      "source": [
        "# Function to preprocess the input image\n",
        "def preprocess_image(img_path):\n",
        "    img = image.load_img(img_path, target_size=(224, 224))\n",
        "    img_array = image.img_to_array(img)\n",
        "    img_array = preprocess_input(img_array)\n",
        "    img_array = np.expand_dims(img_array, axis=0)\n",
        "    return img_array"
      ],
      "metadata": {
        "id": "vHhBlhAB9Jeg"
      },
      "execution_count": 5,
      "outputs": []
    },
    {
      "cell_type": "code",
      "source": [
        "# Function to make prediction\n",
        "def predict_image(img_path):\n",
        "    img_array = preprocess_image(img_path)\n",
        "    prediction = model.predict(img_array)\n",
        "    predicted_class = np.argmax(prediction)\n",
        "    confidence = prediction[0][predicted_class]\n",
        "    return class_names[predicted_class], confidence"
      ],
      "metadata": {
        "id": "cOmFPz9r9bVH"
      },
      "execution_count": 6,
      "outputs": []
    },
    {
      "cell_type": "code",
      "source": [
        "def evaluate_model(dataset_path):\n",
        "    true_labels = []\n",
        "    predicted_labels = []\n",
        "\n",
        "    for image_name in os.listdir(dataset_path):\n",
        "        img_path = os.path.join(dataset_path, image_name)\n",
        "\n",
        "        # Extract true label from the image name\n",
        "        true_label = 1 if image_name.startswith('pneumonia_') else 0\n",
        "\n",
        "        # Predict the label\n",
        "        predicted_label, _ = predict_image(img_path)\n",
        "\n",
        "        # Convert predicted label to integer\n",
        "        predicted_label = 1 if predicted_label == 'Pneumonia' else 0\n",
        "\n",
        "        true_labels.append(true_label)\n",
        "        predicted_labels.append(predicted_label)\n",
        "\n",
        "    accuracy = accuracy_score(true_labels, predicted_labels)\n",
        "    precision = precision_score(true_labels, predicted_labels)\n",
        "    recall = recall_score(true_labels, predicted_labels)\n",
        "    f1 = f1_score(true_labels, predicted_labels)\n",
        "\n",
        "    return accuracy, precision, recall, f1"
      ],
      "metadata": {
        "id": "TB5dhEo-PxQJ"
      },
      "execution_count": 7,
      "outputs": []
    },
    {
      "cell_type": "code",
      "source": [
        "# Path to the directory containing test images\n",
        "test_dataset_path = '/content/Test'\n",
        "\n",
        "# Evaluate the model\n",
        "accuracy, precision, recall, f1 = evaluate_model(test_dataset_path)\n",
        "\n",
        "print(\"Accuracy:\", accuracy)\n",
        "print(\"Precision:\", precision)\n",
        "print(\"Recall:\", recall)\n",
        "print(\"F1-score:\", f1)"
      ],
      "metadata": {
        "id": "oUPKqp_yP-cI"
      },
      "execution_count": null,
      "outputs": []
    },
    {
      "cell_type": "code",
      "source": [
        "# Test the model with a sample X-ray image\n",
        "# sample_image_path = ''  # Change this to your X-ray image path\n",
        "# predicted_class, confidence = predict_image(sample_image_path)"
      ],
      "metadata": {
        "id": "ft4jQtCg9PEP"
      },
      "execution_count": null,
      "outputs": []
    },
    {
      "cell_type": "code",
      "source": [
        "# Show the prediction result\n",
        "# print(\"Prediction:\", predicted_class)\n",
        "# print(\"Confidence:\", confidence)"
      ],
      "metadata": {
        "id": "x-3pLzz-9QH8"
      },
      "execution_count": null,
      "outputs": []
    },
    {
      "cell_type": "code",
      "source": [
        "# Display the image\n",
        "# img = image.load_img(sample_image_path)\n",
        "# plt.imshow(img)\n",
        "# plt.axis('off')\n",
        "# plt.show()"
      ],
      "metadata": {
        "id": "pYaAKn7U9R8_"
      },
      "execution_count": null,
      "outputs": []
    }
  ]
}